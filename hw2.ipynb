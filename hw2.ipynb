{
  "cells": [
    {
      "cell_type": "markdown",
      "metadata": {
        "id": "MxoFPTTof33v"
      },
      "source": [
        "# ORIE 4580/5580/5581 Assignment 2\n",
        "\n",
        "#### Students: Minjia Tang (mt896) and Xiaoyang Lyu (xl2265)"
      ]
    },
    {
      "cell_type": "markdown",
      "metadata": {
        "id": "54CO0k9tgKAJ"
      },
      "source": [
        "### Instructions\n",
        "\n",
        "\n",
        "* Due Thursday September 11, at 11.59pm on Gradescope.\n",
        "* Assignment .ipynb files available for download on [Canvas](https://canvas.cornell.edu/courses/80773#:~:text=Assignments-,Assignments,-Assignments%20module%20publish).\n",
        "* Do all your work in provided notebook (text answers typeset in markdown; show all required code and generate plots inline), and then generate and submit a pdf.\n",
        "* Ideally do assignments in groups of 2, and submit a single pdf with both names\n",
        "* Please show your work and clearly mark your answers.\n",
        "* You can use any code fragments given in class, found online (for example, on StackOverflow), or generated via Gemini/Claude/ChatGPT (you are encouraged to use these for first drafts) **with proper referencing**.\n",
        "* You can also discuss with others (again, please reference them if you do so); but you must write your final answers on your own as a team.\n",
        "\n",
        "\n",
        "\n",
        "### Suggested reading\n",
        "\n",
        "Chapters 4 and 6 of [Introduction to Probability](https://chance.dartmouth.edu/teaching_aids/books_articles/probability_book/book.html) by Grinstead and Snell. You can skip things that seem more advanced, like the Beta distribution in $Ch\\, 4$ and the part on queueing in $Ch\\,6$ - the part about paradoxes in probability is also strictly speaking not required$\\ldots$(but I would never recommend *not* reading that!)"
      ]
    },
    {
      "cell_type": "code",
      "execution_count": null,
      "metadata": {
        "id": "sNVb3XlKf33w"
      },
      "outputs": [],
      "source": [
        "#importing necessary packages\n",
        "import numpy as np\n",
        "import matplotlib.pyplot as plt\n",
        "%matplotlib inline"
      ]
    },
    {
      "cell_type": "markdown",
      "metadata": {
        "id": "cGCcGZKXn7F_"
      },
      "source": [
        "\n",
        "---\n",
        "\n",
        "---\n",
        "\n",
        "## Question 1: Practice with expectation and variance (25 pts)\n",
        "\n",
        "\n",
        "\n",
        "---\n",
        "\n",
        "\n",
        "**(a)** Given a coin which comes up *Heads* with probability $p$, let $N_p$ denote the number of times the coin is tossed until the first *Heads*. Argue that $$N_p = \\begin{cases} 1 & \\text{with probability } p\\\\ 1+\\tilde{N}_p & \\text{with probability } 1-p \\end{cases}$$\n",
        "where $\\tilde{N}_p$ is an independent random variable with the same distribution as $N_p$.\n",
        "Using this, show that $\\mathbb{E}[N_p] = 1/p$. Also use a similar argument to find $Var(N_p)$.\n",
        "\n",
        "*Note: The rv $N_p$ is said to be a Geometric$(p)$ rv; it has pmf $p(k) = (1-p)^{k-1}p$.*\n",
        "\n",
        "\n",
        "\n",
        "---\n",
        "\n"
      ]
    },
    {
      "cell_type": "markdown",
      "metadata": {
        "id": "jtpKXrGeoqTV"
      },
      "source": [
        "### Ans.\n",
        "\n",
        "We consider a geometric random variable $$ N_p \\sim \\text{Geom}(p)$$\n",
        "\n",
        "It satisfies the distributional identity:\n",
        "\n",
        "$$\n",
        "N_p =\n",
        "\\begin{cases}\n",
        "1, & \\text{with probability } p, \\\\\n",
        "1 + \\tilde N_p, & \\text{with probability } 1-p,\n",
        "\\end{cases}\n",
        "$$\n",
        "\n",
        "$$\n",
        "\\mathbb{E}[N_p]\n",
        "= p \\cdot 1 + (1-p)\\,\\mathbb{E}[1+\\tilde N_p]\n",
        "= p + (1-p)\\bigl(1+\\mathbb{E}[N_p]\\bigr).\n",
        "$$\n",
        "\n",
        "So\n",
        "\n",
        "$$\n",
        "\\mathbb{E}[N_p] = \\frac{1}{p}.\n",
        "$$\n",
        "\n",
        "$$\n",
        "\\operatorname{Var}(N_p) = \\mathbb{E}[N_p^2] - \\bigl(\\mathbb{E}[N_p]\\bigr)^2.\n",
        "$$\n",
        "\n",
        "First compute\n",
        "\n",
        "$$\n",
        "\\mathbb{E}[N_p^2] = p \\cdot 1^2 + (1-p)\\,\\mathbb{E}[(1+\\tilde N_p)^2].\n",
        "$$\n",
        "\n",
        "Expand:\n",
        "\n",
        "$$\n",
        "\\mathbb{E}[(1+\\tilde N_p)^2]\n",
        "= 1 + \\mathbb{E}[N_p^2] + 2\\mathbb{E}[N_p].\n",
        "$$\n",
        "\n",
        "Therefore\n",
        "\n",
        "$$\n",
        "\\mathbb{E}[N_p^2]\n",
        "= p + (1-p)\\bigl(1 + \\mathbb{E}[N_p^2] + 2\\mathbb{E}[N_p]\\bigr).\n",
        "$$\n",
        "\n",
        "$$\n",
        "\\mathbb{E}[N_p^2] = \\frac{1}{p} + \\frac{2(1-p)}{p^2}.\n",
        "$$\n",
        "\n",
        "Finally,\n",
        "\n",
        "$$\n",
        "\\operatorname{Var}(N_p)\n",
        "= \\frac{1}{p} + \\frac{2(1-p)}{p^2} - \\left(\\frac{1}{p}\\right)^2\n",
        "= \\frac{1-p}{p^2}.\n",
        "$$\n"
      ]
    },
    {
      "cell_type": "markdown",
      "metadata": {
        "id": "UqZYCOzjMCat"
      },
      "source": [
        "___\n",
        "\n",
        "**(b)** In the previous assignment you estimated $\\pi$ by sampling uniform random points $(X,Y)$ in $[-1,1]\\times[-1,1]$, and checking if they fell within the circle. Suppose instead you sampled $n$ points uniformly in $[0,1]\\times[0,1]$ and checked if $X^2+Y^2\\leq 1$. Let $N_c$ be the number of points satisfying this; what is $\\mathbb{E}[N_c]$ and $\\text{Var}(N_c)$? Can you use this to get a better estimate of $\\pi$ (i.e., with tighter confidence intervals given the same number of samples $n$)?\n",
        "\n",
        "___"
      ]
    },
    {
      "cell_type": "markdown",
      "metadata": {
        "id": "WeZA2DkzNQcE"
      },
      "source": [
        "### Ans.\n",
        "\n",
        "\n",
        "We estimate $π$ using Monte Carlo and an equivalent integral representation.\n",
        "\n",
        "Let \\((x_i, y_i)\\) be i.i.d. uniform on the unit square \\([0,1]^2\\). Define\n",
        "$$\n",
        "I_i=\\mathbf{1}\\{x_i^2+y_i^2\\le 1\\}, \\qquad I_i \\sim \\mathrm{Bernoulli}(p), \\qquad p=\\frac{\\pi}{4}.\n",
        "$$\n",
        "\n",
        "Let\n",
        "$$\n",
        "N_c=\\sum_{i=1}^n I_i.\n",
        "$$\n",
        "\n",
        "$$\n",
        "\\mathbb{E}[N_c]=n\\cdot \\frac{\\pi}{4},\n",
        "\\qquad\n",
        "\\mathrm{Var}(N_c)=n\\cdot \\frac{\\pi}{4}\\!\\left(1-\\frac{\\pi}{4}\\right).\n",
        "$$\n",
        "\n",
        "$$\n",
        "\\widehat{p}=\\frac{N_c}{n}\\approx \\frac{\\pi}{4}\n",
        "\\quad\\Longrightarrow\\quad\n",
        "\\widehat{\\pi}=4\\,\\widehat{p}=\\frac{4N_c}{n}.\n",
        "$$\n",
        "\n",
        "\n",
        "Equivalent integral derivation\n",
        "\n",
        "Since the quarter–unit–disk area equals \\(\\pi/4\\),\n",
        "$$\n",
        "\\frac{\\pi}{4}=\\int_0^1 \\sqrt{1-x^2}\\,dx.\n",
        "$$\n",
        "If $\\ X\\sim \\mathrm{Unif}(0,1)\\ $, then\n",
        "$$\n",
        "\\frac{\\pi}{4}=\\mathbb{E}\\!\\left[\\sqrt{1-X^2}\\right]\n",
        "\\quad\\Longrightarrow\\quad\n",
        "\\pi=4\\,\\mathbb{E}\\!\\left[\\sqrt{1-X^2}\\right].\n",
        "$$\n",
        "\n",
        "Then we could simulate this $π$ with python\n"
      ]
    },
    {
      "cell_type": "code",
      "source": [
        "import numpy as np\n",
        "\n",
        "def estimate_pi_integral(n=10000, seed=0):\n",
        "    rng = np.random.default_rng(seed)\n",
        "    X = rng.random(n)\n",
        "    f = np.sqrt(1 - X**2)\n",
        "    pi_hat = 4 * f.mean()\n",
        "    s = f.std(ddof=1)\n",
        "    SE = 4 * s / np.sqrt(n)\n",
        "    ci = (pi_hat - 1.96*SE, pi_hat + 1.96*SE)\n",
        "    return pi_hat, SE, ci\n",
        "\n",
        "pi_hat, SE, ci = estimate_pi_integral(10000)\n",
        "print(pi_hat, SE, ci)\n"
      ],
      "metadata": {
        "colab": {
          "base_uri": "https://localhost:8080/"
        },
        "id": "8f0h5IERBUDh",
        "outputId": "02011efe-4260-4e38-d051-4912a5ea0ce6"
      },
      "execution_count": null,
      "outputs": [
        {
          "output_type": "stream",
          "name": "stdout",
          "text": [
            "3.1428798101843047 0.008916318980055927 (np.float64(3.1254038249833953), np.float64(3.160355795385214))\n"
          ]
        }
      ]
    },
    {
      "cell_type": "markdown",
      "metadata": {
        "id": "U25Qyhy3pL0J"
      },
      "source": [
        "---\n",
        "**(c)** The elevators in Rhodes Hall stop at $6$ floors. Suppose one morning you get in on the ground floor with $3$ other people, and each one of you wants to go to a floor in $\\{2,3,4,5,6\\}$ chosen uniformly at random, and independently of the others' choices. At how many floors will the elevator stop on average?\n",
        "\n",
        "\n",
        "---"
      ]
    },
    {
      "cell_type": "markdown",
      "metadata": {
        "id": "KRd2JKsBpa2W"
      },
      "source": [
        "### Ans.\n",
        "\n",
        "Define\n",
        "$$\n",
        "I_j = \\mathbf{1}\\{\\text{at least one person chooses floor } j\\}, \\qquad j=2,\\dots,6.\n",
        "$$\n",
        "\n",
        "Then the number of distinct floors chosen is\n",
        "$$\n",
        "F = \\sum_{j=2}^6 I_j.\n",
        "$$\n",
        "\n",
        "\n",
        "Since each person chooses uniformly from 6 floors,\n",
        "$$\n",
        "\\mathbb{E}[I_j] = 1 - \\left(\\frac{4}{5}\\right)^4.\n",
        "$$\n",
        "\n",
        "(The probability that no one chooses floor \\(j\\) is $ (4/5)^4\\$.\n",
        "\n",
        "Expectation of \\(F\\):\n",
        "$$\n",
        "\\mathbb{E}[F] = 6 \\cdot \\mathbb{E}[I_j]\n",
        "= 6\\left(1-\\left(\\frac{4}{5}\\right)^4\\right).\n",
        "$$\n",
        "\n",
        "Numerically,\n",
        "$$\n",
        "\\mathbb{E}[F] \\approx 2.925.\n",
        "$$\n"
      ]
    },
    {
      "cell_type": "markdown",
      "metadata": {
        "id": "vnBeLBSSpmsF"
      },
      "source": [
        "---\n",
        "\n",
        "(d) For your next simulation homework, you pair up with a student you have not met before. At some point, you get bored of the homework, and decide to count how many common friends you have at Cornell. Suppose the total number of students at Cornell is $22,000$, out of which you have $500$ friends, and your homework partner has $440$. Assuming that for both of you, your friends form independent and uniform random samplings of the total student population, what is the expected number of friends you both have in common?\n",
        "\n",
        "---"
      ]
    },
    {
      "cell_type": "markdown",
      "metadata": {
        "id": "spdv-KpipzKE"
      },
      "source": [
        "### Ans.\n",
        "\n",
        "Let\n",
        "$$\n",
        "I = \\mathbf{1}\\{\\text{you and your friend know each other}\\}.\n",
        "$$\n",
        "\n",
        "The probability of this event is\n",
        "$$\n",
        "P(I=1) = \\frac{500}{22000}\\cdot \\frac{440}{22000}.\n",
        "$$\n",
        "\n",
        "Expected number of friends you meet:\n",
        "\n",
        "There are \\(n=22000\\) people and each has probability \\(p\\) of being your friend,\n",
        "$$\n",
        "\\mathbb{E}[\\text{friends}] = n \\cdot p \\approx 10.\n",
        "$$"
      ]
    },
    {
      "cell_type": "markdown",
      "metadata": {
        "id": "qmO0bQhef33x"
      },
      "source": [
        "___\n",
        "___\n",
        "\n",
        "## Question 2: Pooled Testing (30 pts) ##\n",
        "\n",
        "\n",
        "In 2020 Fall, Cornell adopted pooled testing to test a large population with a limited number of Covid tests. In pooled testing a sample is taken from each person and split into two subsamples. The first subsample from each person is pooled with those of $n-1$ other people into a single pooled sample of size $n$ people. (Cornell eventually used $n=5$.) If the pooled test comes back negative, then we declare all $n$ people in the pool to be\n",
        "negative. If the pooled test comes back positive, we then individually test the second subsample from every person in the pool. In this question we'll explore the effects of different pool sizes $n$.\n",
        "\n",
        "---\n",
        "\n",
        "**(a)** The *prevalence* $p$ at the time of testing is defined to be the true fraction of people with Covid in the population. Now let $N$ be the number of (true) Covid-positive people in a pool of size $n$. What would you use as a model for the distribution of $N$, if you knew the $n$ people in the pool $(i)$ had never met each other in the last week, and $(ii)$ all lived in the same house. In each case, what is the mean and variance of $N$?\n",
        "\n",
        "---"
      ]
    },
    {
      "cell_type": "markdown",
      "metadata": {
        "id": "F2kHkbTdrBIT"
      },
      "source": [
        "### Ans.\n",
        "\n",
        "Standard Binomial distribution\n",
        "\n",
        "If $N \\sim \\text{Binomial}(n,p)$, then\n",
        "$$\n",
        "\\mathbb{E}[N] = np,\n",
        "\\qquad\n",
        "\\mathrm{Var}(N) = np(1-p).\n",
        "$$\n",
        "\n",
        "Correlated Binomial model\n",
        "\n",
        "With correlation parameter $\\rho\\$ between two people,\n",
        "$$\n",
        "\\mathbb{E}[N] = np,\n",
        "\\qquad\n",
        "\\mathrm{Var}(N) = np(1-p)\\left[1 + (n-1)\\rho\\right].\n",
        "$$"
      ]
    },
    {
      "cell_type": "markdown",
      "metadata": {
        "id": "mIEZB79KrP0I"
      },
      "source": [
        "___\n",
        "\n",
        "**(b)** Suppose that the test has no *false positives* and no *false negatives*; it comes back positive if **anyone** in the pool is positive and comes back negative if all people in the pool are negative. Let $T$ be the number of tests you need to be *sure* of each persons status (i.e., if they are COVID positive or not). What is the distribution of $T$, and what is its mean and variance? Clearly state all assumptions you are making.\n",
        "\n",
        "---"
      ]
    },
    {
      "cell_type": "markdown",
      "metadata": {
        "id": "b5x-E30Ex9xK"
      },
      "source": [
        "### Ans.\n",
        "I assume each person's status is independent and there's no false positive or false negative.\n",
        "\n",
        "Let \\(T\\) be the number of tests needed to verify the status of each person in the pool.\n",
        "\n",
        "- If no one is infected (\\(N=0\\)): only **1 test** is required.\n",
        "- If at least one person is infected (\\(N \\geq 1\\)): then **\\(1+n\\) tests** are needed (the pool test plus one for each person).\n",
        "\n",
        "So\n",
        "$$\n",
        "T =\n",
        "\\begin{cases}\n",
        "1, & N=0, \\\\\n",
        "1+n, & N \\geq 1.\n",
        "\\end{cases}\n",
        "$$\n",
        "\n",
        "\n",
        "The probability that everyone is negative is\n",
        "$$\n",
        "P(T=1) = (1-p)^n.\n",
        "$$\n",
        "\n",
        "$$\n",
        "\\mathbb{E}[T] = 1 \\cdot (1-p)^n + (1+n)\\bigl(1-(1-p)^n\\bigr).\n",
        "$$\n",
        "\n",
        "\n",
        "Since \\(T\\) takes only two values,\n",
        "$$\n",
        "\\mathrm{Var}(T) = n^2 (1-p)^n\\left(1-(1-p)^n\\right).\n",
        "$$\n"
      ]
    },
    {
      "cell_type": "markdown",
      "metadata": {
        "id": "lVudUJOOyV8l"
      },
      "source": [
        "___\n",
        "\n",
        "**(c)** What is the pool size $n$ that minimizes the average number of tests per person when the prevalence is $0.0001$? What about when prevalence is $0.01$? You should do this numerically using plots (i.e., without calculus), as this is helps explain your recommendation to decision-makers (note though that you may want to test different ranges of $n$ for each setting).\n",
        "\n",
        "---"
      ]
    },
    {
      "cell_type": "markdown",
      "metadata": {
        "id": "FlZqL3MPzO6a"
      },
      "source": [
        "### Ans.\n",
        "\n",
        "Define efficiency\n",
        "$$\n",
        "t = \\frac{\\mathbb{E}[T]}{n} = \\frac{1}{n} + 1 - (1-p)^n.\n",
        "$$\n",
        "\n",
        "For small \\(p\\), approximate\n",
        "$$\n",
        "(1-p)^n \\approx 1-np.\n",
        "$$\n",
        "\n",
        "Thus,\n",
        "$$\n",
        "t \\approx \\frac{1}{n} + 1-1 + np \\approx \\frac{1}{n} + np.\n",
        "$$\n",
        "\n",
        "Differentiate:\n",
        "$$\n",
        "t' = -\\frac{1}{n^2} + p.\n",
        "$$\n",
        "\n",
        "Set derivative to zero:\n",
        "$$\n",
        "t' = 0 \\quad \\Rightarrow \\quad n = \\frac{1}{\\sqrt{p}}.\n",
        "$$\n",
        "\n",
        "so we know n1 is around 100 n2 is around 10.\n",
        "I also do this via plotting as below."
      ]
    },
    {
      "cell_type": "code",
      "execution_count": null,
      "metadata": {
        "id": "Ssa0L6NE00Zy",
        "colab": {
          "base_uri": "https://localhost:8080/",
          "height": 490
        },
        "outputId": "cb257de6-dd04-4704-8a7e-258f1c2ea236"
      },
      "outputs": [
        {
          "output_type": "display_data",
          "data": {
            "text/plain": [
              "<Figure size 640x480 with 1 Axes>"
            ],
            "image/png": "[encoded data removed]"
          },
          "metadata": {}
        },
        {
          "output_type": "stream",
          "name": "stdout",
          "text": [
            "Optimal n: 101 Min avg tests: 0.019950656341507167\n"
          ]
        }
      ],
      "source": [
        "import numpy as np\n",
        "import matplotlib.pyplot as plt\n",
        "\n",
        "def avg_tests_per_person(n, p):\n",
        "    return (1/n) + 1 - (1-p)**n\n",
        "\n",
        "p = 1e-4\n",
        "ns = np.arange(1, 301)\n",
        "vals = [avg_tests_per_person(n, p) for n in ns]\n",
        "\n",
        "n_star = ns[np.argmin(vals)]\n",
        "c_star = min(vals)\n",
        "\n",
        "plt.plot(ns, vals)\n",
        "plt.scatter([n_star], [c_star], color=\"red\")\n",
        "plt.title(f\"Average tests per person (p={p})\")\n",
        "plt.xlabel(\"Pool size n\")\n",
        "plt.ylabel(\"Average tests per person\")\n",
        "plt.show()\n",
        "\n",
        "print(\"Optimal n:\", n_star, \"Min avg tests:\", c_star)\n"
      ]
    },
    {
      "cell_type": "code",
      "execution_count": null,
      "metadata": {
        "id": "pko5OogAzfrn",
        "colab": {
          "base_uri": "https://localhost:8080/",
          "height": 490
        },
        "outputId": "e1a56906-9920-46bf-aa45-18da9a00aa5d"
      },
      "outputs": [
        {
          "output_type": "display_data",
          "data": {
            "text/plain": [
              "<Figure size 640x480 with 1 Axes>"
            ],
            "image/png": "[encoded data removed]"
          },
          "metadata": {}
        },
        {
          "output_type": "stream",
          "name": "stdout",
          "text": [
            "Optimal n: 11 Min avg tests: 0.19557083665037445\n"
          ]
        }
      ],
      "source": [
        "import numpy as np\n",
        "import matplotlib.pyplot as plt\n",
        "\n",
        "def avg_tests_per_person(n, p):\n",
        "    return (1/n) + 1 - (1-p)**n\n",
        "\n",
        "p = 0.01\n",
        "ns = np.arange(1, 301)\n",
        "vals = [avg_tests_per_person(n, p) for n in ns]\n",
        "\n",
        "n_star = ns[np.argmin(vals)]\n",
        "c_star = min(vals)\n",
        "\n",
        "plt.plot(ns, vals)\n",
        "plt.scatter([n_star], [c_star], color=\"red\")\n",
        "plt.title(f\"Average tests per person (p={p})\")\n",
        "plt.xlabel(\"Pool size n\")\n",
        "plt.ylabel(\"Average tests per person\")\n",
        "plt.show()\n",
        "\n",
        "print(\"Optimal n:\", n_star, \"Min avg tests:\", c_star)\n"
      ]
    },
    {
      "cell_type": "markdown",
      "metadata": {
        "id": "P_G3haZcpAfc"
      },
      "source": [
        "\n",
        "\n",
        "---\n",
        "\n",
        "*(d)* A more critical characteristic of pooled tests is the false negative rate, which is the probability that a test comes back negative when at least one person in the pool is Covid positive. False negatives are dangerous, because the person (or people) with Covid in the pool can infect others until Covid is otherwise detected or they become no longer infectious.\n",
        "\n",
        "You know that false negatives must be more likely when there is a low viral load in a sample. To understand how to model false negatives in PCR tests, you consult with your friend who is a biologist, who tells you that the viral load $V$ in a PCR sample is measured using something called the cycle threshold (CT) score of a PCR test, which is equivalent to $C = -\\log_2 V$. The viral load for a Covid-negative person is $V=0$. In a pooled sample of size $n$, each person contributes a fraction $1/n$ of the sample, and the resulting viral load has a total CT score of:\n",
        "$$-\\log_2 \\left(\\frac 1 n \\sum_{i=1}^n 2^{-C_i}\\right),$$\n",
        "where $C_1, C_2, \\ldots, C_n$ are the CT scores of each person in the pool. Finally, your friend recalls that probability $\\mathbb{P}[\\text{false positive test}|C]$ of a false negative in a single PCR test is well modeled either as\n",
        "$\\frac{1}{1 + \\exp(-10(C - 35))}$ or $\\frac{1}{1 + \\exp(10(C - 35))}$ (but he can not remember which one 🙁).\n",
        "\n",
        "Can you figure out what the correct model is?\n",
        "\n",
        "---\n",
        "\n"
      ]
    },
    {
      "cell_type": "markdown",
      "metadata": {
        "id": "b5GdqFCzsiTA"
      },
      "source": [
        "### Ans.\n",
        "\n",
        "A PCR cycle threshold (CT) score is defined by\n",
        "\n",
        "$$\n",
        "C = -\\log_{2} V ,\n",
        "$$\n",
        "\n",
        "where \\(V\\) is the viral load. A higher CT means a lower viral load. Since false negatives are more likely when the viral load is low, the probability of a false negative must be an **increasing** function of CT.\n",
        "\n",
        "The correct logistic model is\n",
        "\n",
        "$$\n",
        "P(\\text{false negative} \\mid C) = \\frac{1}{1+\\exp\\big(-10(C-35)\\big)}.\n",
        "$$\n",
        "\n",
        "- When $C \\ll 35$ (high viral load), the probability is close to 0.  \n",
        "- At $C=35$, the probability is 0.5.  \n",
        "- When $C \\gg 35$ (low viral load), the probability approaches 1.  \n",
        "\n",
        "\n",
        "\n",
        "\n",
        "\n"
      ]
    },
    {
      "cell_type": "markdown",
      "metadata": {
        "id": "-gl2YJrorGkf"
      },
      "source": [
        "\n",
        "\n",
        "---\n",
        "\n",
        "\n",
        "*(e)* You consult the epidemiology literature and find that the viral load for a Covid-positive person has been found from data to have a CT score $C$ that is well modeled via a *mixture of Gaussian* distribution as follows: with probability $0.40$, $C$ is $\\mathcal{N}(20, 3.5^2)$ (i.e., normally distributed with mean 20 and variance $3.5^2$); with probability $0.5$, $C$ is $\\mathcal{N}(30, 3^2)$, and otherwise,  $C$ is $\\mathcal{N}(34.78, 1.32^2)$.\n",
        "\n",
        "Use this data with the above model to estimate the probability of a false negative in a pooled test of size $n$ containing a single Covid-positive person as a function of $n$. You'll need to generate, say, $m$ replications of the pooled test at each value of $n$, where you should choose $m$ to ensure that your results are meaningful. Report your results as a graph with the false negative rate on the $y$-axis and the pool size $n$ ranging from 1 to 50 on the $x$-axis. Select your simulation runlength so that your estimates would be useful in practice (for example, estimates that are $\\pm$ 0.02 or so are sufficiently accurate).\n",
        "\n",
        "\n",
        "---\n"
      ]
    },
    {
      "cell_type": "markdown",
      "metadata": {
        "id": "7TgVoe_dseOb"
      },
      "source": [
        "### Ans.\n",
        "\n"
      ]
    },
    {
      "cell_type": "code",
      "execution_count": null,
      "metadata": {
        "id": "zQu1pSVIrFmk",
        "colab": {
          "base_uri": "https://localhost:8080/",
          "height": 472
        },
        "outputId": "748201d7-f52f-4b79-9d3d-9ec668d5dab0"
      },
      "outputs": [
        {
          "output_type": "display_data",
          "data": {
            "text/plain": [
              "<Figure size 640x480 with 1 Axes>"
            ],
            "image/png": "[encoded data removed]"
          },
          "metadata": {}
        }
      ],
      "source": [
        "C_thresh = 35\n",
        "pool_sizes = range(1, 51)\n",
        "m = 50000\n",
        "\n",
        "weights = [0.4, 0.5, 0.1]\n",
        "means = [20, 30, 34.78]\n",
        "stds = [3.5, 3, 1.32]\n",
        "\n",
        "false_negatives = []\n",
        "\n",
        "for n in pool_sizes:\n",
        "    components = np.random.choice([0,1,2], size=m, p=weights)\n",
        "    C_samples = np.array([np.random.normal(means[i], stds[i]) for i in components])\n",
        "    C_samples = C_samples + np.log2(n)\n",
        "    fn_rate = np.mean(C_samples > C_thresh)\n",
        "    false_negatives.append(fn_rate)\n",
        "\n",
        "plt.plot(pool_sizes, false_negatives, marker='o')\n",
        "plt.xlabel(\"Pool size n\")\n",
        "plt.ylabel(\"False negative rate\")\n",
        "plt.title(\"False Negative Rate vs Pool Size for Pooled Testing\")\n",
        "plt.show()"
      ]
    },
    {
      "cell_type": "markdown",
      "metadata": {
        "id": "l_IOsfDhf33y"
      },
      "source": [
        "## Question 3: Buffon and his magic needle (20 points)"
      ]
    },
    {
      "cell_type": "markdown",
      "metadata": {
        "id": "wyQBQHsERhuf"
      },
      "source": [
        "In the first class we saw Buffon's needle experiment in which we drop needles of length 1 on a floor of parallel lines that are equally spaced 1 unit apart. If we drop $n$ needles and $N_{cross}$ of them cross a line, then an estimate of $\\pi$ is $\\hat{\\pi}_n = 2n/N_{cross}$. We will now study how this works in practice (feel free to use the code provided in class)."
      ]
    },
    {
      "cell_type": "markdown",
      "metadata": {
        "id": "o5-ARlaCSEPy"
      },
      "source": [
        "\n",
        "---\n",
        "\n",
        "**(a)** For a range of values of $n$ between $10$ and $10,000$, perform $30$ replications of the Buffon needle experiment. For each value of $n$ you test, plot the average of the $30$ estimates $\\hat{\\pi}_n = 2n/N_{cross}$ and a 95\\% confidence interval for the expected value of $\\hat{\\pi}_n$. You should only be making one plot, with $n$ on the $x$-axis, and estimates and CIs on the $y$-axis.\n",
        "\n",
        "\n",
        "\n",
        "---\n",
        "\n"
      ]
    },
    {
      "cell_type": "code",
      "execution_count": null,
      "metadata": {
        "id": "5bKOtz2CSDjB",
        "colab": {
          "base_uri": "https://localhost:8080/",
          "height": 472
        },
        "outputId": "09a8cbf9-3299-48b0-b154-793fe4a9ac70"
      },
      "outputs": [
        {
          "output_type": "display_data",
          "data": {
            "text/plain": [
              "<Figure size 640x480 with 1 Axes>"
            ],
            "image/png": "[encoded data removed]"
          },
          "metadata": {}
        }
      ],
      "source": [
        "def buffon(N,length,dist,num_lines = 2,seed=-1):\n",
        "    \"\"\"\n",
        "    Generates a design matrix with Gaussian basis functions\n",
        "\n",
        "    Parameters\n",
        "    ----------\n",
        "    N: number of throws\n",
        "    length: length of toothpick\n",
        "    dist: distance between lines\n",
        "    num_lines: number of lines (should be >=2)\n",
        "    seed: seed for random number generator; -1 for no seed\n",
        "\n",
        "    Returns\n",
        "    ----------\n",
        "    sim_data: list of length N with outputs of sims\n",
        "              each simulation output comprises:\n",
        "              (tuples) (x_1,y_1), (x_2,y_2) of toothpick endpoints\n",
        "              (int) number of line crossings\n",
        "\n",
        "    \"\"\"\n",
        "\n",
        "    # Setting seed for PRNG (using -1 for no seed)\n",
        "    if seed!=-1:\n",
        "      np.random.seed(seed)\n",
        "\n",
        "    # Generate random centers and angles of toothpicks\n",
        "    # np.random.rand() generates a U[0,1] random variable\n",
        "    xcent = 1+(num_lines-1)*np.random.rand(N)\n",
        "    ycent = 1+(num_lines-1)*np.random.rand(N)\n",
        "    theta = (np.pi/2.0)*np.random.rand(N)\n",
        "\n",
        "    # Count number of times each toothpick touches a line\n",
        "    crossed = (ycent - np.floor(ycent) - (length/2.0)*np.sin(theta) < 0).astype(int) + (ycent - np.floor(ycent) + (length/2.0)*np.sin(theta) > dist).astype(int)\n",
        "    crossed = crossed.sum()\n",
        "    # Return toothpick endpoints, number of times each toothpick crosses\n",
        "    return crossed\n",
        "\n",
        "means, cis = [], []\n",
        "for n in range(10, 10001):\n",
        "    pi_hats = []\n",
        "    for _ in range(30):\n",
        "        N_cross = buffon(n, length=1, dist=1)\n",
        "        if N_cross > 0:\n",
        "            pi_hats.append(2*n / N_cross)\n",
        "\n",
        "    m = np.mean(pi_hats)\n",
        "    s = np.std(pi_hats, ddof=1)\n",
        "    ci = 1.96 * s / np.sqrt(30)\n",
        "    means.append(m)\n",
        "    cis.append(ci)\n",
        "\n",
        "plt.errorbar(list(range(10, 10001)), means, yerr=cis, label=\"Estimate ± 95% CI\")\n",
        "plt.axhline(np.pi, color='r', linestyle='--', label=\"True π\")\n",
        "plt.xlabel(\"n (number of needles dropped)\")\n",
        "plt.ylabel(\"Estimated π\")\n",
        "plt.title(\"Buffon's Needle Experiment\")\n",
        "plt.legend()\n",
        "plt.show()\n"
      ]
    },
    {
      "cell_type": "markdown",
      "metadata": {
        "id": "CxV2yEmlSbkC"
      },
      "source": [
        "\n",
        "---\n",
        "\n",
        "**(b)** You may notice from your plot in part (a) that the estimator $\\hat{\\pi}_n$ has some *bias*, i.e., $\\mathbb{E}[\\hat{\\pi}_n] \\neq \\pi$ (this may be more apparent for small values of $n$). Pick a small value (say, $n=100$), and do more replications (i.e., do multiple experiments, where in each experiment you throw $100$ needles), and determine if $\\hat{\\pi}_n$ is an overestimate or underestimate for $\\pi$.\n",
        "\n",
        "\n",
        "---\n"
      ]
    },
    {
      "cell_type": "markdown",
      "metadata": {
        "id": "uFSg1RRwTUfb"
      },
      "source": [
        "### Ans."
      ]
    },
    {
      "cell_type": "code",
      "execution_count": null,
      "metadata": {
        "id": "oWMHDHynTTuD",
        "colab": {
          "base_uri": "https://localhost:8080/"
        },
        "outputId": "0b9ae745-7804-4f27-9945-4cf57c7c5873"
      },
      "outputs": [
        {
          "output_type": "stream",
          "name": "stdout",
          "text": [
            "3.166560112845653\n"
          ]
        }
      ],
      "source": [
        "pi_hats = []\n",
        "\n",
        "for _ in range(1000):\n",
        "    N_cross = buffon(100, length=1, dist=1)\n",
        "    if N_cross > 0:\n",
        "        pi_hats.append(200 / N_cross)\n",
        "\n",
        "pi_hats = np.array(pi_hats)\n",
        "mean_pi_hat = np.mean(pi_hats)\n",
        "print(mean_pi_hat)"
      ]
    },
    {
      "cell_type": "markdown",
      "source": [
        "Overestimate"
      ],
      "metadata": {
        "id": "Hifgltea-v61"
      }
    },
    {
      "cell_type": "markdown",
      "metadata": {
        "id": "HU-lR4mMTe7Z"
      },
      "source": [
        "**(c)** Can you mathematically justify your observation from part (b)?"
      ]
    },
    {
      "cell_type": "markdown",
      "metadata": {
        "id": "YgNPNKKkTl8p"
      },
      "source": [
        "$N_{cross}$~$Binomial(n,\\frac{2}{\\pi})$\n",
        "$$\n",
        "E(\\hat \\pi_n) = E(\\frac{2n}{N_{cross}})=2nE(\\frac{1}{N_{cross}}) \\\\\n",
        ">2n\\frac{1}{E(N_{cross})}=\\pi\n",
        "$$"
      ]
    },
    {
      "cell_type": "markdown",
      "metadata": {
        "id": "RIFfuf3eTn1j"
      },
      "source": [
        "**(d)** Note however that you can still use Buffon's experiment to get an estimate with $95$\\% confidence intervals for $\\mathbb{E}[\\frac{N_{\\text{cross}}}{n}]$. Using this, can you get a $95$\\% confidence interval for $\\pi$? (Note: this need not be symmetric about $\\pi$)."
      ]
    },
    {
      "cell_type": "markdown",
      "metadata": {
        "id": "nvNTxd05UY-T"
      },
      "source": [
        "Yes. \\\n",
        "$$\n",
        "E(\\frac{N_{corss}}{n})=\\frac{1}{n} E({N_{cross}}) \\\\\n",
        "=\\frac{1}{n} \\cdot n \\cdot \\frac{2}{\\pi}=\\frac{2}{\\pi}\n",
        "$$\n",
        "Since we can get the CI for $E(\\frac{N_{corss}}{n})$, we can get the CI for $\\pi$\n"
      ]
    },
    {
      "cell_type": "markdown",
      "metadata": {
        "id": "1YzsdFSPUatj"
      },
      "source": [
        "**(e) (Optional for everyone!)** Try to convince yourself (by linearity of expectation), that\n",
        "\n",
        "(i) If you randomly throw $n$ matches of length $\\ell$ and let $N^{\\ell}_{\\text{cross}}$ be a count of how many times these cross the lines, then $\\frac{\\mathbb{E}[N^{\\ell}_{\\text{cross}}]}{\\ell} = $ constant (in other words, the expected number of crossings is proportional to $\\ell$). Note: if $\\ell>1$, each match may cross multiple lines.\n",
        "\n",
        "(ii) The above result remains true if you throw *any* line segment (with any shape) of length $\\ell$. Using this, can you see an easy way to compute $\\mathbb{E}[N^{1}_{\\text{cross}}]$ (i.e., the probability of a match crossing a line in the original experiment)?"
      ]
    },
    {
      "cell_type": "markdown",
      "metadata": {
        "id": "4McZkHwYf33z"
      },
      "source": [
        "## Question 4: Overbooking (25 points)\n",
        "\n",
        "A website called Tixmaster is in charge of selling tickets for an upcoming Taylor Swift concert in Ithaca. The concert will take place in the State Theater, which has an official capacity of $1500$ seats. You believe however that Tixmaster has sold $1600$ tickets (representatives of the company, when contacted, denied this$\\ldots$).\n",
        "\n",
        "The show starts at 7pm, and if a ticket holder hasn't shown up by that time, then they are not allowed to enter anymore so as to not disturb the other attendees. From experience, you believe that there is a 95\\% chance that someone who has bought a ticket actually shows up by 7pm. and that people show up (or not) independently from one another."
      ]
    },
    {
      "cell_type": "markdown",
      "metadata": {
        "id": "Z3BowWcMz8Iw"
      },
      "source": [
        "\n",
        "\n",
        "---\n",
        "\n",
        "**(a)** You wait inside the State Theater and count the number of people entering. What is the probability that you will be able to prove that Tixmaster is overbooking? (You can do this with or without simulation)\n",
        "\n",
        "\n",
        "---"
      ]
    },
    {
      "cell_type": "markdown",
      "metadata": {
        "id": "DmaSH5iZ0zH-"
      },
      "source": [
        "$$\n",
        "X \\sim \\text{Binomial}(n=1600, p=0.95) \\\\\n",
        "P(\\text{overbooking}) = P(X > 1500)\n",
        "$$\n",
        "Normal approximation:\n",
        "$$\n",
        "\\mu = np = 1600 \\cdot 0.95 = 1520 \\\\\n",
        "\\sigma = \\sqrt{np(1-p)} = \\sqrt{1600 \\cdot 0.95 \\cdot 0.05} \\approx 8.72 \\\\\n",
        "P(X > 1500) \\approx P(Z > \\frac{1500 - 1520}{8.72}) = P(Z > -2.293) \\\\\n",
        "P(Z > -2.293) = 1 - \\phi(-2.293) = 1 - 0.0109 = 0.9891\n",
        "$$\n",
        "The probability you can catch overbooking is approximately 98.9%)."
      ]
    },
    {
      "cell_type": "markdown",
      "metadata": {
        "id": "BS10dJ10f33z"
      },
      "source": [
        "**(b)** You manage to catch Tixmaster overbooking this time, and to prevent it in future, you decide to impose a fine to try and disincentivize overbooking. You know Tixmaster earns 100 in profit for every ticket sold (whether the holder shows up or not). You again have an agent counting how many people show up to the concert by $7$pm (you can not see how many are late or no-shows), and can charge Tixmaster a fine of 500 for each person exceeding the capacity.\n",
        "\n",
        "Use a simulation to estimate how many extra tickets (over 1600) Tixmaster will sell, if they are trying to maximize their expected profit (after paying any fines)."
      ]
    },
    {
      "cell_type": "code",
      "source": [
        "seats = 1500\n",
        "profit_per_ticket = 100\n",
        "fine_per_extra = 500\n",
        "p_show = 0.95\n",
        "reps = 100000\n",
        "max_extra = 100\n",
        "expected_profits = []\n",
        "\n",
        "for k in range(max_extra + 1):\n",
        "    n_tickets = seats + k\n",
        "    X = np.random.binomial(n_tickets, p_show, size=reps)\n",
        "    profits = profit_per_ticket * n_tickets - fine_per_extra * np.maximum(X - seats, 0)\n",
        "    expected_profits.append(np.mean(profits))\n",
        "\n",
        "best_k = np.argmax(expected_profits)\n",
        "print(f\"Extra tickets to maximize expected profit: {best_k}\")\n"
      ],
      "metadata": {
        "colab": {
          "base_uri": "https://localhost:8080/"
        },
        "id": "VawWPJtVEsUn",
        "outputId": "117cff16-22ca-4806-d1fc-49c3e3366653"
      },
      "execution_count": null,
      "outputs": [
        {
          "output_type": "stream",
          "name": "stdout",
          "text": [
            "Extra tickets to maximize expected profit: 72\n"
          ]
        }
      ]
    },
    {
      "cell_type": "markdown",
      "metadata": {
        "id": "8c1LKlyBf33z"
      },
      "source": [
        "\n",
        "\n",
        "---\n",
        "\n",
        "\n",
        "\n",
        "**(c) (For 5580/5581 students; optional for 4580)** Finally, you decide to stamp down on any overbooking by setting a large enough penalty so that Tixmaster does not find it profitable to sell even one extra ticket. Use simulation to find a fee $F$ charged per person over $1600$ admitted to the theater, such that it stops overbooking for each person who book after the number tickets sold exceed the capacity. (Ideally, try to propose as small an $F$ as possible, so that the city government feels it is practical to implement).\n",
        "\n",
        "*(Note: This sort of a problem where you want to optimize a parameter via simulation is difficult. We will see some ways to do this more efficiently later in class; however, for this problem, it is easy to do a search over potential values of $F$ to find the first time that overbooking by even $1$ ticket becomes unprofitable.)*\n",
        "\n",
        "\n",
        "---\n",
        "\n"
      ]
    },
    {
      "cell_type": "markdown",
      "metadata": {
        "id": "rN21bzkORLVg"
      },
      "source": [
        "### Ans."
      ]
    },
    {
      "cell_type": "code",
      "execution_count": null,
      "metadata": {
        "id": "2M5NJnUCf33z",
        "colab": {
          "base_uri": "https://localhost:8080/"
        },
        "outputId": "ae643b82-6d24-40f1-e5e3-3bceb3d21f81"
      },
      "outputs": [
        {
          "output_type": "stream",
          "name": "stdout",
          "text": [
            "profit_no_extra 150000\n"
          ]
        }
      ],
      "source": [
        "profit_no_extra = profit_per_ticket * seats\n",
        "F_values = range(500, 3000, 100)\n",
        "# print(\"profit_no_extra\", profit_no_extra)\n",
        "\n",
        "for F in F_values:\n",
        "    n_tickets = seats + 1\n",
        "    X1 = np.random.binomial(n_tickets, p_show, size=1000000)\n",
        "    profit_extra = profit_per_ticket * n_tickets - F * np.maximum(X1 - seats, 0)\n",
        "    expected_profit_extra = np.mean(profit_extra)\n",
        "    # print(\"expected_profit_extra\", expected_profit_extra)\n",
        "    if expected_profit_extra < profit_no_extra:\n",
        "        break"
      ]
    },
    {
      "cell_type": "markdown",
      "source": [
        " It's very unlikely for any F since the expected number of people showing up is 0.95*1501=1425, way below the capacity 1500."
      ],
      "metadata": {
        "id": "EmuYEwJQalBP"
      }
    }
  ],
  "metadata": {
    "colab": {
      "provenance": []
    },
    "kernelspec": {
      "display_name": "Python 3 (ipykernel)",
      "language": "python",
      "name": "python3"
    },
    "language_info": {
      "codemirror_mode": {
        "name": "ipython",
        "version": 3
      },
      "file_extension": ".py",
      "mimetype": "text/x-python",
      "name": "python",
      "nbconvert_exporter": "python",
      "pygments_lexer": "ipython3",
      "version": "3.10.5"
    }
  },
  "nbformat": 4,
  "nbformat_minor": 0
}